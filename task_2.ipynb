{
  "cells": [
    {
      "cell_type": "code",
      "execution_count": 1,
      "metadata": {
        "id": "G3zswI1KskIB"
      },
      "outputs": [],
      "source": [
        "# Constants\n",
        "CLUSTERS = 300\n",
        "MAX_UNITS_VALUE = 10\n",
        "EPOCHS = 10\n",
        "BATCH_SIZE = 128\n",
        "TARGET_ACCURACY = 0.768\n",
        "\n",
        "RANDOM_SEED = 13\n",
        "\n",
        "CHECKPOINT_PATH = '/checkpoint'"
      ]
    },
    {
      "cell_type": "code",
      "execution_count": 2,
      "metadata": {
        "id": "CHz21J_dskIE"
      },
      "outputs": [],
      "source": [
        "import pandas as pd\n",
        "from sklearn import cluster\n",
        "from sklearn.model_selection import train_test_split\n",
        "from tensorflow.keras.layers import Dense, Input, concatenate, BatchNormalization, Embedding, Flatten\n",
        "from tensorflow.keras.models import Model\n",
        "from tensorflow.keras.optimizers import Adamax\n",
        "from tensorflow.keras.callbacks import ModelCheckpoint"
      ]
    },
    {
      "cell_type": "code",
      "execution_count": 3,
      "metadata": {
        "id": "Nn7TaFIvCIzS"
      },
      "outputs": [],
      "source": [
        "# Setup clusters predictor\n",
        "location_clusters_predictor = cluster.KMeans(n_clusters=CLUSTERS, random_state=RANDOM_SEED)"
      ]
    },
    {
      "cell_type": "code",
      "execution_count": 4,
      "metadata": {
        "id": "jbKOlYOHBqDO"
      },
      "outputs": [],
      "source": [
        "\n",
        "def prepare_location(dataframe):\n",
        "  # Form locations clusters\n",
        "  locations_dataframe = dataframe[[\"latitude\", \"longitude\"]]  \n",
        "  locations_clusters = location_clusters_predictor.fit_predict(locations_dataframe)\n",
        "\n",
        "  # Replace latitude and longitude columns with location column (clusters' indexes)\n",
        "  dataframe[\"location\"] = locations_clusters\n",
        "  return dataframe.drop(columns=[\"latitude\", \"longitude\"])\n",
        "\n",
        "def prepare_companies(dataframe):\n",
        "  temp_dataframe = pd.DataFrame({\"units\": dataframe.groupby(\"company\").count().iloc[:,0]})\n",
        "  # Get companies' ids where units count <= MAX_UNITS_VALUE\n",
        "  companies_lower = temp_dataframe[temp_dataframe[\"units\"] <= MAX_UNITS_VALUE]\n",
        "  \n",
        "  # Get companies' ids where units count <= MAX_UNITS_VALUE\n",
        "  companies_higher = temp_dataframe[temp_dataframe[\"units\"] > MAX_UNITS_VALUE]\n",
        "  \n",
        "  # Replace companies:\n",
        "  #       - where units count <= MAX_UNITS_VALUE with 0\n",
        "  #       - where units count > MAX_UNITS_VALUE with index of value companies_higher_ids + 1\n",
        "  # to use values that matches [0, number_of_unique_companies]\n",
        "  companies_lower_ids = list(companies_lower.index.get_level_values(\"company\"))\n",
        "  companies_higher_ids = list(companies_higher.index.get_level_values(\"company\"))\n",
        "\n",
        "  for i, row in dataframe.iterrows():\n",
        "    if (row[\"company\"] in companies_lower_ids):\n",
        "      dataframe.at[i, \"company\"] = 0\n",
        "    elif (row[\"company\"] in companies_higher_ids):\n",
        "      dataframe.at[i, \"company\"] = companies_higher_ids.index(row[\"company\"]) + 1\n",
        "\n",
        "  return dataframe"
      ]
    },
    {
      "cell_type": "code",
      "execution_count": 5,
      "metadata": {
        "id": "oyC5BP_-XBpH"
      },
      "outputs": [],
      "source": [
        "def get_train_input(dataframe):\n",
        "  return [ dataframe[[\"fin_1\", \"fin_2\", \"fin_3\", \"fin_4\", \"is_local\"]], \n",
        "           dataframe[[\"company\"]], \n",
        "           dataframe[[\"type\"]], \n",
        "           dataframe[[\"location\"]]]"
      ]
    },
    {
      "cell_type": "code",
      "execution_count": 6,
      "metadata": {
        "id": "BWj-4Fz1SQ63"
      },
      "outputs": [],
      "source": [
        "def setup_model(dataframe):\n",
        "  # Setup fin pipeline\n",
        "  fin_input = Input(shape=(5,))\n",
        "  fin_flow = Dense(32, activation=\"relu\")(fin_input)\n",
        "  fin_flow = BatchNormalization()(fin_flow)\n",
        "  fin_flow = Dense(32, activation=\"relu\")(fin_flow)\n",
        "  fin_flow = BatchNormalization()(fin_flow)\n",
        "\n",
        "  # Setup companies pipeline\n",
        "  companies_classes = len(dataframe[\"company\"].unique()) + 1\n",
        "  company_input = Input(shape=(1,))\n",
        "  company_flow = Embedding((companies_classes), 128)(company_input)\n",
        "  company_flow = Flatten()(company_flow)\n",
        "  company_flow = Dense(32, activation=\"relu\")(company_flow)\n",
        "\n",
        "  # Setup types pipeline\n",
        "  unique_types = dataframe[\"type\"].nunique()\n",
        "  types_input = Input(shape=(1,))\n",
        "  types_flow = Embedding(unique_types, 16)(types_input)\n",
        "  types_flow = Flatten()(types_flow)\n",
        "  types_flow = Dense(16, activation=\"relu\")(types_flow)\n",
        "\n",
        "  # Setup location pipeline\n",
        "  location_input = Input(shape=(1,))\n",
        "  location_flow = Embedding(300, 128)(location_input)\n",
        "  location_flow = Flatten()(location_flow)\n",
        "  location_flow = Dense(32, activation=\"relu\")(location_flow)\n",
        "\n",
        "  # Setup general pipeline\n",
        "  inputs = [[fin_input, fin_flow], [company_input, company_flow],\n",
        "            [types_input, types_flow], [location_input, location_flow]]\n",
        "\n",
        "  general_input = concatenate([input[1] for input in inputs])\n",
        "  flow = Dense(64, activation=\"relu\")(general_input)\n",
        "  flow = BatchNormalization()(flow)\n",
        "  flow = Dense(64, activation=\"relu\")(flow)\n",
        "  flow = BatchNormalization()(flow)\n",
        "  flow = Dense(1, activation=\"sigmoid\")(flow)\n",
        "\n",
        "  model = Model(inputs=[input[0] for input in inputs], outputs=flow)\n",
        "  opt = Adamax(learning_rate=1e-5)\n",
        "  model.compile(loss=\"binary_crossentropy\", optimizer=opt, metrics=[\"accuracy\"])\n",
        "\n",
        "  return model"
      ]
    },
    {
      "cell_type": "code",
      "execution_count": 7,
      "metadata": {
        "colab": {
          "base_uri": "https://localhost:8080/",
          "height": 206
        },
        "id": "A8nY4MKjskIH",
        "outputId": "eee6a592-eaf4-47be-e1ff-004981c4aaec"
      },
      "outputs": [
        {
          "data": {
            "text/html": [
              "<div>\n",
              "<style scoped>\n",
              "    .dataframe tbody tr th:only-of-type {\n",
              "        vertical-align: middle;\n",
              "    }\n",
              "\n",
              "    .dataframe tbody tr th {\n",
              "        vertical-align: top;\n",
              "    }\n",
              "\n",
              "    .dataframe thead th {\n",
              "        text-align: right;\n",
              "    }\n",
              "</style>\n",
              "<table border=\"1\" class=\"dataframe\">\n",
              "  <thead>\n",
              "    <tr style=\"text-align: right;\">\n",
              "      <th></th>\n",
              "      <th>latitude</th>\n",
              "      <th>longitude</th>\n",
              "      <th>company</th>\n",
              "      <th>is_local</th>\n",
              "      <th>type</th>\n",
              "      <th>fin_1</th>\n",
              "      <th>fin_2</th>\n",
              "      <th>fin_3</th>\n",
              "      <th>fin_4</th>\n",
              "      <th>target</th>\n",
              "    </tr>\n",
              "  </thead>\n",
              "  <tbody>\n",
              "    <tr>\n",
              "      <th>0</th>\n",
              "      <td>40.10891</td>\n",
              "      <td>-83.09286</td>\n",
              "      <td>8336</td>\n",
              "      <td>0</td>\n",
              "      <td>3</td>\n",
              "      <td>-135060.089443</td>\n",
              "      <td>86013.396489</td>\n",
              "      <td>1206.094242</td>\n",
              "      <td>52287.082257</td>\n",
              "      <td>0</td>\n",
              "    </tr>\n",
              "    <tr>\n",
              "      <th>1</th>\n",
              "      <td>39.86542</td>\n",
              "      <td>-84.06280</td>\n",
              "      <td>18403</td>\n",
              "      <td>1</td>\n",
              "      <td>0</td>\n",
              "      <td>-1766.845055</td>\n",
              "      <td>14985.640180</td>\n",
              "      <td>477.494992</td>\n",
              "      <td>168836.215743</td>\n",
              "      <td>1</td>\n",
              "    </tr>\n",
              "    <tr>\n",
              "      <th>2</th>\n",
              "      <td>39.10266</td>\n",
              "      <td>-84.52468</td>\n",
              "      <td>14022</td>\n",
              "      <td>0</td>\n",
              "      <td>3</td>\n",
              "      <td>-177302.873693</td>\n",
              "      <td>44881.958005</td>\n",
              "      <td>1463.339889</td>\n",
              "      <td>130388.243325</td>\n",
              "      <td>0</td>\n",
              "    </tr>\n",
              "    <tr>\n",
              "      <th>3</th>\n",
              "      <td>39.10148</td>\n",
              "      <td>-84.52341</td>\n",
              "      <td>11051</td>\n",
              "      <td>0</td>\n",
              "      <td>0</td>\n",
              "      <td>209049.997460</td>\n",
              "      <td>0.000000</td>\n",
              "      <td>95.340075</td>\n",
              "      <td>103267.727546</td>\n",
              "      <td>1</td>\n",
              "    </tr>\n",
              "    <tr>\n",
              "      <th>4</th>\n",
              "      <td>41.06213</td>\n",
              "      <td>-81.53784</td>\n",
              "      <td>3243</td>\n",
              "      <td>0</td>\n",
              "      <td>3</td>\n",
              "      <td>8669.269507</td>\n",
              "      <td>0.000000</td>\n",
              "      <td>399.421926</td>\n",
              "      <td>177532.206618</td>\n",
              "      <td>1</td>\n",
              "    </tr>\n",
              "  </tbody>\n",
              "</table>\n",
              "</div>"
            ],
            "text/plain": [
              "   latitude  longitude  company  ...        fin_3          fin_4  target\n",
              "0  40.10891  -83.09286     8336  ...  1206.094242   52287.082257       0\n",
              "1  39.86542  -84.06280    18403  ...   477.494992  168836.215743       1\n",
              "2  39.10266  -84.52468    14022  ...  1463.339889  130388.243325       0\n",
              "3  39.10148  -84.52341    11051  ...    95.340075  103267.727546       1\n",
              "4  41.06213  -81.53784     3243  ...   399.421926  177532.206618       1\n",
              "\n",
              "[5 rows x 10 columns]"
            ]
          },
          "execution_count": 7,
          "metadata": {},
          "output_type": "execute_result"
        }
      ],
      "source": [
        "# Read train.csv\n",
        "train_dataframe = pd.read_csv(\"train.csv\", index_col=0)\n",
        "train_dataframe.head()"
      ]
    },
    {
      "cell_type": "code",
      "execution_count": 8,
      "metadata": {
        "colab": {
          "base_uri": "https://localhost:8080/"
        },
        "id": "UfWXYGjGskII",
        "outputId": "274694f6-b6c9-4622-83ac-b9ce66643092"
      },
      "outputs": [
        {
          "data": {
            "text/plain": [
              "160001"
            ]
          },
          "execution_count": 8,
          "metadata": {},
          "output_type": "execute_result"
        }
      ],
      "source": [
        "# Get total number of rows\n",
        "len(train_dataframe.index)"
      ]
    },
    {
      "cell_type": "code",
      "execution_count": 9,
      "metadata": {
        "colab": {
          "base_uri": "https://localhost:8080/"
        },
        "id": "4GSep79rskIJ",
        "outputId": "45ffbc21-f84d-4151-a7e1-e0e9a5b8e2d8"
      },
      "outputs": [
        {
          "data": {
            "text/plain": [
              "latitude     0\n",
              "longitude    0\n",
              "company      0\n",
              "is_local     0\n",
              "type         0\n",
              "fin_1        0\n",
              "fin_2        0\n",
              "fin_3        0\n",
              "fin_4        0\n",
              "target       0\n",
              "dtype: int64"
            ]
          },
          "execution_count": 9,
          "metadata": {},
          "output_type": "execute_result"
        }
      ],
      "source": [
        "# Check for null values in rows\n",
        "train_dataframe.isnull().sum()"
      ]
    },
    {
      "cell_type": "code",
      "execution_count": 10,
      "metadata": {
        "colab": {
          "base_uri": "https://localhost:8080/"
        },
        "id": "WEcYJYPGskIJ",
        "outputId": "6623c4ca-be62-47d8-e99c-637bc9ca0c65"
      },
      "outputs": [
        {
          "data": {
            "text/plain": [
              "3686"
            ]
          },
          "execution_count": 10,
          "metadata": {},
          "output_type": "execute_result"
        }
      ],
      "source": [
        "# Check for unique company notes\n",
        "train_dataframe[\"company\"].nunique()"
      ]
    },
    {
      "cell_type": "code",
      "execution_count": 11,
      "metadata": {
        "colab": {
          "base_uri": "https://localhost:8080/",
          "height": 206
        },
        "id": "KHItybLKD_F0",
        "outputId": "a2e1ddd8-e5f5-4da1-f81a-e38d78c2ca56"
      },
      "outputs": [
        {
          "data": {
            "text/html": [
              "<div>\n",
              "<style scoped>\n",
              "    .dataframe tbody tr th:only-of-type {\n",
              "        vertical-align: middle;\n",
              "    }\n",
              "\n",
              "    .dataframe tbody tr th {\n",
              "        vertical-align: top;\n",
              "    }\n",
              "\n",
              "    .dataframe thead th {\n",
              "        text-align: right;\n",
              "    }\n",
              "</style>\n",
              "<table border=\"1\" class=\"dataframe\">\n",
              "  <thead>\n",
              "    <tr style=\"text-align: right;\">\n",
              "      <th></th>\n",
              "      <th>company</th>\n",
              "      <th>is_local</th>\n",
              "      <th>type</th>\n",
              "      <th>fin_1</th>\n",
              "      <th>fin_2</th>\n",
              "      <th>fin_3</th>\n",
              "      <th>fin_4</th>\n",
              "      <th>target</th>\n",
              "      <th>location</th>\n",
              "    </tr>\n",
              "  </thead>\n",
              "  <tbody>\n",
              "    <tr>\n",
              "      <th>0</th>\n",
              "      <td>561</td>\n",
              "      <td>0</td>\n",
              "      <td>3</td>\n",
              "      <td>-135060.089443</td>\n",
              "      <td>86013.396489</td>\n",
              "      <td>1206.094242</td>\n",
              "      <td>52287.082257</td>\n",
              "      <td>0</td>\n",
              "      <td>48</td>\n",
              "    </tr>\n",
              "    <tr>\n",
              "      <th>1</th>\n",
              "      <td>1273</td>\n",
              "      <td>1</td>\n",
              "      <td>0</td>\n",
              "      <td>-1766.845055</td>\n",
              "      <td>14985.640180</td>\n",
              "      <td>477.494992</td>\n",
              "      <td>168836.215743</td>\n",
              "      <td>1</td>\n",
              "      <td>24</td>\n",
              "    </tr>\n",
              "    <tr>\n",
              "      <th>2</th>\n",
              "      <td>973</td>\n",
              "      <td>0</td>\n",
              "      <td>3</td>\n",
              "      <td>-177302.873693</td>\n",
              "      <td>44881.958005</td>\n",
              "      <td>1463.339889</td>\n",
              "      <td>130388.243325</td>\n",
              "      <td>0</td>\n",
              "      <td>116</td>\n",
              "    </tr>\n",
              "    <tr>\n",
              "      <th>3</th>\n",
              "      <td>757</td>\n",
              "      <td>0</td>\n",
              "      <td>0</td>\n",
              "      <td>209049.997460</td>\n",
              "      <td>0.000000</td>\n",
              "      <td>95.340075</td>\n",
              "      <td>103267.727546</td>\n",
              "      <td>1</td>\n",
              "      <td>116</td>\n",
              "    </tr>\n",
              "    <tr>\n",
              "      <th>4</th>\n",
              "      <td>229</td>\n",
              "      <td>0</td>\n",
              "      <td>3</td>\n",
              "      <td>8669.269507</td>\n",
              "      <td>0.000000</td>\n",
              "      <td>399.421926</td>\n",
              "      <td>177532.206618</td>\n",
              "      <td>1</td>\n",
              "      <td>245</td>\n",
              "    </tr>\n",
              "  </tbody>\n",
              "</table>\n",
              "</div>"
            ],
            "text/plain": [
              "   company  is_local  type  ...          fin_4  target  location\n",
              "0      561         0     3  ...   52287.082257       0        48\n",
              "1     1273         1     0  ...  168836.215743       1        24\n",
              "2      973         0     3  ...  130388.243325       0       116\n",
              "3      757         0     0  ...  103267.727546       1       116\n",
              "4      229         0     3  ...  177532.206618       1       245\n",
              "\n",
              "[5 rows x 9 columns]"
            ]
          },
          "execution_count": 11,
          "metadata": {},
          "output_type": "execute_result"
        }
      ],
      "source": [
        "# Prepare dataframe before model training\n",
        "train_dataframe = prepare_location(train_dataframe)\n",
        "train_dataframe = prepare_companies(train_dataframe)\n",
        "\n",
        "train_dataframe.head()"
      ]
    },
    {
      "cell_type": "code",
      "execution_count": 12,
      "metadata": {
        "colab": {
          "base_uri": "https://localhost:8080/"
        },
        "id": "8aubheZ4skIR",
        "outputId": "9cd2972d-8168-4a64-ad36-f5a325de86fd"
      },
      "outputs": [
        {
          "name": "stdout",
          "output_type": "stream",
          "text": [
            "Model: \"model\"\n",
            "__________________________________________________________________________________________________\n",
            " Layer (type)                   Output Shape         Param #     Connected to                     \n",
            "==================================================================================================\n",
            " input_1 (InputLayer)           [(None, 5)]          0           []                               \n",
            "                                                                                                  \n",
            " dense (Dense)                  (None, 32)           192         ['input_1[0][0]']                \n",
            "                                                                                                  \n",
            " input_2 (InputLayer)           [(None, 1)]          0           []                               \n",
            "                                                                                                  \n",
            " input_3 (InputLayer)           [(None, 1)]          0           []                               \n",
            "                                                                                                  \n",
            " input_4 (InputLayer)           [(None, 1)]          0           []                               \n",
            "                                                                                                  \n",
            " batch_normalization (BatchNorm  (None, 32)          128         ['dense[0][0]']                  \n",
            " alization)                                                                                       \n",
            "                                                                                                  \n",
            " embedding (Embedding)          (None, 1, 128)       177408      ['input_2[0][0]']                \n",
            "                                                                                                  \n",
            " embedding_1 (Embedding)        (None, 1, 16)        80          ['input_3[0][0]']                \n",
            "                                                                                                  \n",
            " embedding_2 (Embedding)        (None, 1, 128)       38400       ['input_4[0][0]']                \n",
            "                                                                                                  \n",
            " dense_1 (Dense)                (None, 32)           1056        ['batch_normalization[0][0]']    \n",
            "                                                                                                  \n",
            " flatten (Flatten)              (None, 128)          0           ['embedding[0][0]']              \n",
            "                                                                                                  \n",
            " flatten_1 (Flatten)            (None, 16)           0           ['embedding_1[0][0]']            \n",
            "                                                                                                  \n",
            " flatten_2 (Flatten)            (None, 128)          0           ['embedding_2[0][0]']            \n",
            "                                                                                                  \n",
            " batch_normalization_1 (BatchNo  (None, 32)          128         ['dense_1[0][0]']                \n",
            " rmalization)                                                                                     \n",
            "                                                                                                  \n",
            " dense_2 (Dense)                (None, 32)           4128        ['flatten[0][0]']                \n",
            "                                                                                                  \n",
            " dense_3 (Dense)                (None, 16)           272         ['flatten_1[0][0]']              \n",
            "                                                                                                  \n",
            " dense_4 (Dense)                (None, 32)           4128        ['flatten_2[0][0]']              \n",
            "                                                                                                  \n",
            " concatenate (Concatenate)      (None, 112)          0           ['batch_normalization_1[0][0]',  \n",
            "                                                                  'dense_2[0][0]',                \n",
            "                                                                  'dense_3[0][0]',                \n",
            "                                                                  'dense_4[0][0]']                \n",
            "                                                                                                  \n",
            " dense_5 (Dense)                (None, 64)           7232        ['concatenate[0][0]']            \n",
            "                                                                                                  \n",
            " batch_normalization_2 (BatchNo  (None, 64)          256         ['dense_5[0][0]']                \n",
            " rmalization)                                                                                     \n",
            "                                                                                                  \n",
            " dense_6 (Dense)                (None, 64)           4160        ['batch_normalization_2[0][0]']  \n",
            "                                                                                                  \n",
            " batch_normalization_3 (BatchNo  (None, 64)          256         ['dense_6[0][0]']                \n",
            " rmalization)                                                                                     \n",
            "                                                                                                  \n",
            " dense_7 (Dense)                (None, 1)            65          ['batch_normalization_3[0][0]']  \n",
            "                                                                                                  \n",
            "==================================================================================================\n",
            "Total params: 237,889\n",
            "Trainable params: 237,505\n",
            "Non-trainable params: 384\n",
            "__________________________________________________________________________________________________\n"
          ]
        }
      ],
      "source": [
        "# Setup model\n",
        "model = setup_model(train_dataframe)\n",
        "model.summary()"
      ]
    },
    {
      "cell_type": "code",
      "execution_count": 19,
      "metadata": {
        "id": "MtdwXdatskIS"
      },
      "outputs": [],
      "source": [
        "# Setup datasets\n",
        "X, y = train_dataframe.drop(columns=[\"target\"]), train_dataframe[\"target\"]\n",
        "X_train, X_test, y_train, y_test = train_test_split(X, y, test_size=0.1, random_state=RANDOM_SEED)\n",
        "validation_data = (get_train_input(X_test), y_test)"
      ]
    },
    {
      "cell_type": "code",
      "execution_count": 20,
      "metadata": {
        "colab": {
          "base_uri": "https://localhost:8080/"
        },
        "id": "1UBNlpE30ORv",
        "outputId": "d52b66fd-70bf-45ce-ddba-99a7d338356a"
      },
      "outputs": [
        {
          "name": "stdout",
          "output_type": "stream",
          "text": [
            "Epoch 1/10\n",
            "1125/1125 [==============================] - 5s 4ms/step - loss: 0.4560 - accuracy: 0.7690 - val_loss: 0.4517 - val_accuracy: 0.7705\n",
            "Epoch 2/10\n",
            "1125/1125 [==============================] - 5s 4ms/step - loss: 0.4547 - accuracy: 0.7682 - val_loss: 0.4501 - val_accuracy: 0.7701\n",
            "Epoch 3/10\n",
            "1125/1125 [==============================] - 6s 5ms/step - loss: 0.4530 - accuracy: 0.7695 - val_loss: 0.4482 - val_accuracy: 0.7711\n",
            "Epoch 4/10\n",
            "1125/1125 [==============================] - 5s 5ms/step - loss: 0.4522 - accuracy: 0.7686 - val_loss: 0.4475 - val_accuracy: 0.7712\n",
            "Epoch 5/10\n",
            "1125/1125 [==============================] - 5s 5ms/step - loss: 0.4511 - accuracy: 0.7684 - val_loss: 0.4465 - val_accuracy: 0.7713\n",
            "Epoch 6/10\n",
            "1125/1125 [==============================] - 6s 5ms/step - loss: 0.4500 - accuracy: 0.7692 - val_loss: 0.4455 - val_accuracy: 0.7720\n",
            "Epoch 7/10\n",
            "1125/1125 [==============================] - 5s 4ms/step - loss: 0.4488 - accuracy: 0.7689 - val_loss: 0.4448 - val_accuracy: 0.7722\n",
            "Epoch 8/10\n",
            "1125/1125 [==============================] - 5s 4ms/step - loss: 0.4480 - accuracy: 0.7697 - val_loss: 0.4445 - val_accuracy: 0.7723\n",
            "Epoch 9/10\n",
            "1125/1125 [==============================] - 5s 4ms/step - loss: 0.4473 - accuracy: 0.7696 - val_loss: 0.4438 - val_accuracy: 0.7709\n",
            "Epoch 10/10\n",
            "1125/1125 [==============================] - 5s 4ms/step - loss: 0.4470 - accuracy: 0.7699 - val_loss: 0.4431 - val_accuracy: 0.7718\n"
          ]
        },
        {
          "data": {
            "text/plain": [
              "<keras.callbacks.History at 0x7f2894312650>"
            ]
          },
          "execution_count": 20,
          "metadata": {},
          "output_type": "execute_result"
        }
      ],
      "source": [
        "# Setup callback for checkpoint saving\n",
        "model_checkpoint_callback = ModelCheckpoint(\n",
        "    filepath = CHECKPOINT_PATH,\n",
        "    save_weights_only = True,\n",
        "    monitor = 'val_accuracy',\n",
        "    mode = 'max',\n",
        "    save_best_only = True\n",
        ")\n",
        "\n",
        "# Train model\n",
        "model.fit(\n",
        "    x = get_train_input(X_train), \n",
        "    y = y_train,\n",
        "    validation_data = validation_data,\n",
        "    epochs = EPOCHS,\n",
        "    batch_size = BATCH_SIZE,\n",
        "    callbacks = [model_checkpoint_callback]\n",
        ")"
      ]
    },
    {
      "cell_type": "code",
      "execution_count": 21,
      "metadata": {
        "colab": {
          "base_uri": "https://localhost:8080/"
        },
        "id": "mj69Nidh0Usi",
        "outputId": "1b59e35b-c8f0-4bee-8b2c-470c96ce79c9"
      },
      "outputs": [
        {
          "name": "stdout",
          "output_type": "stream",
          "text": [
            "501/501 - 1s - loss: 0.4445 - accuracy: 0.7723 - 740ms/epoch - 1ms/step\n",
            "Accuracy: 77.23267078399658%\n",
            "Expected accuracy: 76.8%\n"
          ]
        }
      ],
      "source": [
        "# Reload model's weights\n",
        "model.load_weights(CHECKPOINT_PATH)\n",
        "\n",
        "# Check model result on train's test set \n",
        "loss, accuracy = model.evaluate(validation_data[0], y_test, verbose=2)\n",
        "print(f\"Accuracy: {100 * accuracy}%\")\n",
        "print(f\"Expected accuracy: {100 * TARGET_ACCURACY}%\")"
      ]
    },
    {
      "cell_type": "code",
      "execution_count": 22,
      "metadata": {
        "colab": {
          "base_uri": "https://localhost:8080/",
          "height": 206
        },
        "id": "QEMy0cGg0YGI",
        "outputId": "effd7753-9ad8-481d-cce9-dad099c6005d"
      },
      "outputs": [
        {
          "data": {
            "text/html": [
              "<div>\n",
              "<style scoped>\n",
              "    .dataframe tbody tr th:only-of-type {\n",
              "        vertical-align: middle;\n",
              "    }\n",
              "\n",
              "    .dataframe tbody tr th {\n",
              "        vertical-align: top;\n",
              "    }\n",
              "\n",
              "    .dataframe thead th {\n",
              "        text-align: right;\n",
              "    }\n",
              "</style>\n",
              "<table border=\"1\" class=\"dataframe\">\n",
              "  <thead>\n",
              "    <tr style=\"text-align: right;\">\n",
              "      <th></th>\n",
              "      <th>latitude</th>\n",
              "      <th>longitude</th>\n",
              "      <th>company</th>\n",
              "      <th>is_local</th>\n",
              "      <th>type</th>\n",
              "      <th>fin_1</th>\n",
              "      <th>fin_2</th>\n",
              "      <th>fin_3</th>\n",
              "      <th>fin_4</th>\n",
              "      <th>target</th>\n",
              "    </tr>\n",
              "  </thead>\n",
              "  <tbody>\n",
              "    <tr>\n",
              "      <th>160000</th>\n",
              "      <td>39.284310</td>\n",
              "      <td>-76.735350</td>\n",
              "      <td>18187</td>\n",
              "      <td>1</td>\n",
              "      <td>1</td>\n",
              "      <td>113033.389907</td>\n",
              "      <td>0.000000</td>\n",
              "      <td>270.906219</td>\n",
              "      <td>31222.780176</td>\n",
              "      <td>0</td>\n",
              "    </tr>\n",
              "    <tr>\n",
              "      <th>160001</th>\n",
              "      <td>36.758509</td>\n",
              "      <td>-76.344861</td>\n",
              "      <td>11208</td>\n",
              "      <td>0</td>\n",
              "      <td>0</td>\n",
              "      <td>-87239.590275</td>\n",
              "      <td>73759.387510</td>\n",
              "      <td>759.194862</td>\n",
              "      <td>237587.544996</td>\n",
              "      <td>1</td>\n",
              "    </tr>\n",
              "    <tr>\n",
              "      <th>160002</th>\n",
              "      <td>43.402802</td>\n",
              "      <td>-75.217100</td>\n",
              "      <td>7437</td>\n",
              "      <td>1</td>\n",
              "      <td>4</td>\n",
              "      <td>-122084.498620</td>\n",
              "      <td>15528.109943</td>\n",
              "      <td>1039.655934</td>\n",
              "      <td>29612.346982</td>\n",
              "      <td>0</td>\n",
              "    </tr>\n",
              "    <tr>\n",
              "      <th>160003</th>\n",
              "      <td>41.871160</td>\n",
              "      <td>-87.848570</td>\n",
              "      <td>17362</td>\n",
              "      <td>0</td>\n",
              "      <td>1</td>\n",
              "      <td>87355.127256</td>\n",
              "      <td>0.000000</td>\n",
              "      <td>214.594205</td>\n",
              "      <td>163526.475818</td>\n",
              "      <td>1</td>\n",
              "    </tr>\n",
              "    <tr>\n",
              "      <th>160004</th>\n",
              "      <td>42.161296</td>\n",
              "      <td>-88.129184</td>\n",
              "      <td>11515</td>\n",
              "      <td>0</td>\n",
              "      <td>3</td>\n",
              "      <td>33014.437946</td>\n",
              "      <td>0.000000</td>\n",
              "      <td>379.819724</td>\n",
              "      <td>67499.397999</td>\n",
              "      <td>1</td>\n",
              "    </tr>\n",
              "  </tbody>\n",
              "</table>\n",
              "</div>"
            ],
            "text/plain": [
              "         latitude  longitude  company  ...        fin_3          fin_4  target\n",
              "160000  39.284310 -76.735350    18187  ...   270.906219   31222.780176       0\n",
              "160001  36.758509 -76.344861    11208  ...   759.194862  237587.544996       1\n",
              "160002  43.402802 -75.217100     7437  ...  1039.655934   29612.346982       0\n",
              "160003  41.871160 -87.848570    17362  ...   214.594205  163526.475818       1\n",
              "160004  42.161296 -88.129184    11515  ...   379.819724   67499.397999       1\n",
              "\n",
              "[5 rows x 10 columns]"
            ]
          },
          "execution_count": 22,
          "metadata": {},
          "output_type": "execute_result"
        }
      ],
      "source": [
        "# Read test.csv\n",
        "test_dataframe = pd.read_csv(\"test.csv\", index_col=0)\n",
        "test_dataframe.head()"
      ]
    },
    {
      "cell_type": "code",
      "execution_count": 23,
      "metadata": {
        "colab": {
          "base_uri": "https://localhost:8080/",
          "height": 206
        },
        "id": "uMspxj3S0aRi",
        "outputId": "1043132c-fe88-48f3-ef6e-ffec99b8e36f"
      },
      "outputs": [
        {
          "data": {
            "text/html": [
              "<div>\n",
              "<style scoped>\n",
              "    .dataframe tbody tr th:only-of-type {\n",
              "        vertical-align: middle;\n",
              "    }\n",
              "\n",
              "    .dataframe tbody tr th {\n",
              "        vertical-align: top;\n",
              "    }\n",
              "\n",
              "    .dataframe thead th {\n",
              "        text-align: right;\n",
              "    }\n",
              "</style>\n",
              "<table border=\"1\" class=\"dataframe\">\n",
              "  <thead>\n",
              "    <tr style=\"text-align: right;\">\n",
              "      <th></th>\n",
              "      <th>company</th>\n",
              "      <th>is_local</th>\n",
              "      <th>type</th>\n",
              "      <th>fin_1</th>\n",
              "      <th>fin_2</th>\n",
              "      <th>fin_3</th>\n",
              "      <th>fin_4</th>\n",
              "      <th>target</th>\n",
              "      <th>location</th>\n",
              "    </tr>\n",
              "  </thead>\n",
              "  <tbody>\n",
              "    <tr>\n",
              "      <th>160000</th>\n",
              "      <td>0</td>\n",
              "      <td>1</td>\n",
              "      <td>1</td>\n",
              "      <td>113033.389907</td>\n",
              "      <td>0.000000</td>\n",
              "      <td>270.906219</td>\n",
              "      <td>31222.780176</td>\n",
              "      <td>0</td>\n",
              "      <td>216</td>\n",
              "    </tr>\n",
              "    <tr>\n",
              "      <th>160001</th>\n",
              "      <td>306</td>\n",
              "      <td>0</td>\n",
              "      <td>0</td>\n",
              "      <td>-87239.590275</td>\n",
              "      <td>73759.387510</td>\n",
              "      <td>759.194862</td>\n",
              "      <td>237587.544996</td>\n",
              "      <td>1</td>\n",
              "      <td>96</td>\n",
              "    </tr>\n",
              "    <tr>\n",
              "      <th>160002</th>\n",
              "      <td>0</td>\n",
              "      <td>1</td>\n",
              "      <td>4</td>\n",
              "      <td>-122084.498620</td>\n",
              "      <td>15528.109943</td>\n",
              "      <td>1039.655934</td>\n",
              "      <td>29612.346982</td>\n",
              "      <td>0</td>\n",
              "      <td>248</td>\n",
              "    </tr>\n",
              "    <tr>\n",
              "      <th>160003</th>\n",
              "      <td>0</td>\n",
              "      <td>0</td>\n",
              "      <td>1</td>\n",
              "      <td>87355.127256</td>\n",
              "      <td>0.000000</td>\n",
              "      <td>214.594205</td>\n",
              "      <td>163526.475818</td>\n",
              "      <td>1</td>\n",
              "      <td>5</td>\n",
              "    </tr>\n",
              "    <tr>\n",
              "      <th>160004</th>\n",
              "      <td>316</td>\n",
              "      <td>0</td>\n",
              "      <td>3</td>\n",
              "      <td>33014.437946</td>\n",
              "      <td>0.000000</td>\n",
              "      <td>379.819724</td>\n",
              "      <td>67499.397999</td>\n",
              "      <td>1</td>\n",
              "      <td>63</td>\n",
              "    </tr>\n",
              "  </tbody>\n",
              "</table>\n",
              "</div>"
            ],
            "text/plain": [
              "        company  is_local  type  ...          fin_4  target  location\n",
              "160000        0         1     1  ...   31222.780176       0       216\n",
              "160001      306         0     0  ...  237587.544996       1        96\n",
              "160002        0         1     4  ...   29612.346982       0       248\n",
              "160003        0         0     1  ...  163526.475818       1         5\n",
              "160004      316         0     3  ...   67499.397999       1        63\n",
              "\n",
              "[5 rows x 9 columns]"
            ]
          },
          "execution_count": 23,
          "metadata": {},
          "output_type": "execute_result"
        }
      ],
      "source": [
        "# Prepare dataframe before spliting to test sets\n",
        "test_dataframe = prepare_location(test_dataframe)\n",
        "test_dataframe = prepare_companies(test_dataframe)\n",
        "X_test = test_dataframe.drop(columns=\"target\")\n",
        "y_test = test_dataframe[\"target\"]\n",
        "\n",
        "test_dataframe.head()"
      ]
    },
    {
      "cell_type": "code",
      "execution_count": 24,
      "metadata": {
        "colab": {
          "base_uri": "https://localhost:8080/"
        },
        "id": "z0xWnP5s0dCb",
        "outputId": "932e948f-1c40-4ca8-9413-da8353fb8aa4"
      },
      "outputs": [
        {
          "name": "stdout",
          "output_type": "stream",
          "text": [
            "1250/1250 - 2s - loss: 0.4487 - accuracy: 0.7709 - 2s/epoch - 2ms/step\n",
            "Accuracy: 77.08500027656555%\n",
            "Expected accuracy: 76.8%\n"
          ]
        }
      ],
      "source": [
        "loss, accuracy = model.evaluate(get_train_input(X_test), y_test, verbose=2)\n",
        "print(f\"Accuracy: {100 * accuracy}%\")\n",
        "print(f\"Expected accuracy: {100 * TARGET_ACCURACY}%\")"
      ]
    }
  ],
  "metadata": {
    "colab": {
      "collapsed_sections": [],
      "name": "solution.ipynb",
      "provenance": []
    },
    "interpreter": {
      "hash": "b95d35a8728e2e8864a6aa1964fbc5dcbfd9c938e9cc14663986e38c332bb26b"
    },
    "kernelspec": {
      "display_name": "Python 3.9.0 64-bit",
      "language": "python",
      "name": "python3"
    },
    "language_info": {
      "codemirror_mode": {
        "name": "ipython",
        "version": 3
      },
      "file_extension": ".py",
      "mimetype": "text/x-python",
      "name": "python",
      "nbconvert_exporter": "python",
      "pygments_lexer": "ipython3",
      "version": "3.9.0"
    },
    "orig_nbformat": 4
  },
  "nbformat": 4,
  "nbformat_minor": 0
}
